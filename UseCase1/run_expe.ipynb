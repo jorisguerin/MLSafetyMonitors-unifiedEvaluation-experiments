{
 "cells": [
  {
   "cell_type": "markdown",
   "id": "9fad52d4",
   "metadata": {},
   "source": [
    "## Imports"
   ]
  },
  {
   "cell_type": "code",
   "execution_count": 1,
   "id": "bb9dc626",
   "metadata": {},
   "outputs": [
    {
     "name": "stderr",
     "output_type": "stream",
     "text": [
      "2022-08-24 12:46:52.194322: I tensorflow/stream_executor/platform/default/dso_loader.cc:49] Successfully opened dynamic library libcudart.so.10.1\n",
      "2022-08-24 12:46:53.533627: I tensorflow/compiler/jit/xla_cpu_device.cc:41] Not creating XLA devices, tf_xla_enable_xla_devices not set\n",
      "2022-08-24 12:46:53.535848: I tensorflow/stream_executor/platform/default/dso_loader.cc:49] Successfully opened dynamic library libcuda.so.1\n",
      "2022-08-24 12:46:53.583536: I tensorflow/stream_executor/cuda/cuda_gpu_executor.cc:941] successful NUMA node read from SysFS had negative value (-1), but there must be at least one NUMA node, so returning NUMA node zero\n",
      "2022-08-24 12:46:53.584734: I tensorflow/core/common_runtime/gpu/gpu_device.cc:1720] Found device 0 with properties: \n",
      "pciBusID: 0000:01:00.0 name: NVIDIA GeForce RTX 2080 SUPER computeCapability: 7.5\n",
      "coreClock: 1.815GHz coreCount: 48 deviceMemorySize: 7.79GiB deviceMemoryBandwidth: 462.00GiB/s\n",
      "2022-08-24 12:46:53.584800: I tensorflow/stream_executor/platform/default/dso_loader.cc:49] Successfully opened dynamic library libcudart.so.10.1\n",
      "2022-08-24 12:46:53.591953: I tensorflow/stream_executor/platform/default/dso_loader.cc:49] Successfully opened dynamic library libcublas.so.10\n",
      "2022-08-24 12:46:53.592112: I tensorflow/stream_executor/platform/default/dso_loader.cc:49] Successfully opened dynamic library libcublasLt.so.10\n",
      "2022-08-24 12:46:53.594764: I tensorflow/stream_executor/platform/default/dso_loader.cc:49] Successfully opened dynamic library libcufft.so.10\n",
      "2022-08-24 12:46:53.595525: I tensorflow/stream_executor/platform/default/dso_loader.cc:49] Successfully opened dynamic library libcurand.so.10\n",
      "2022-08-24 12:46:53.597642: I tensorflow/stream_executor/platform/default/dso_loader.cc:49] Successfully opened dynamic library libcusolver.so.10\n",
      "2022-08-24 12:46:53.598250: I tensorflow/stream_executor/platform/default/dso_loader.cc:49] Successfully opened dynamic library libcusparse.so.10\n",
      "2022-08-24 12:46:53.601170: I tensorflow/stream_executor/platform/default/dso_loader.cc:49] Successfully opened dynamic library libcudnn.so.7\n",
      "2022-08-24 12:46:53.601253: I tensorflow/stream_executor/cuda/cuda_gpu_executor.cc:941] successful NUMA node read from SysFS had negative value (-1), but there must be at least one NUMA node, so returning NUMA node zero\n",
      "2022-08-24 12:46:53.601520: I tensorflow/stream_executor/cuda/cuda_gpu_executor.cc:941] successful NUMA node read from SysFS had negative value (-1), but there must be at least one NUMA node, so returning NUMA node zero\n",
      "2022-08-24 12:46:53.601721: I tensorflow/core/common_runtime/gpu/gpu_device.cc:1862] Adding visible gpu devices: 0\n"
     ]
    }
   ],
   "source": [
    "import os\n",
    "import pickle\n",
    "from tqdm import tqdm\n",
    "\n",
    "import numpy as np\n",
    "\n",
    "import tensorflow as tf\n",
    "from tensorflow.keras.layers import Softmax\n",
    "from tensorflow.keras.models import load_model\n",
    "\n",
    "from sklearn.ensemble import IsolationForest\n",
    "\n",
    "import matplotlib.pyplot as plt\n",
    "\n",
    "gpus = tf.config.list_physical_devices('GPU')\n",
    "tf.config.set_logical_device_configuration(gpus[0],[tf.config.LogicalDeviceConfiguration(memory_limit=4096)])"
   ]
  },
  {
   "cell_type": "markdown",
   "id": "6a9f073a",
   "metadata": {},
   "source": [
    "## Dataset and perturbation\n",
    "\n",
    "Run the *generate_perturbation.py* script"
   ]
  },
  {
   "cell_type": "markdown",
   "id": "d0f4f1fd",
   "metadata": {},
   "source": [
    "## Training neural networks\n",
    "To train the CIFAR10 classifier used in this use case, run the *train_classifier.py* script.\n",
    "\n",
    "To train the CIFAR10 auto-encoder used in this use case, run the *train_auto-encoder.py* script.\n",
    "\n",
    "If you don't want to re-run trainings, the pretrained weights used in our experiments can be downloaded from https://drive.google.com/file/d/1SzB2uqxehPMnh0ROqYsE2Nd34rdsXIu6/view?usp=sharing."
   ]
  },
  {
   "cell_type": "markdown",
   "id": "91554d60",
   "metadata": {},
   "source": [
    "## Extract features\n",
    "Once the data and perturbations have been generated and the pretrained models have been downloaded and extracted, run the *extract_features.py* script."
   ]
  },
  {
   "cell_type": "markdown",
   "id": "e0f002ee",
   "metadata": {},
   "source": [
    "## Reproduce results"
   ]
  },
  {
   "cell_type": "markdown",
   "id": "bd3ec800",
   "metadata": {},
   "source": [
    "#### Load features"
   ]
  },
  {
   "cell_type": "code",
   "execution_count": 2,
   "id": "76487255",
   "metadata": {},
   "outputs": [],
   "source": [
    "X_train_ae = \"Data/train_features_ae.p\"\n",
    "X_train_cl = \"Data/train_features_classifier.p\"\n",
    "X_test_ae = \"Data/test_features_ae.p\"\n",
    "X_test_cl = \"Data/test_features_classifier.p\"\n",
    "X_testBright_ae = \"Data/test_bright_features_ae.p\"\n",
    "X_testBright_cl = \"Data/test_bright_features_classifier.p\"\n",
    "\n",
    "X_train_ae = pickle.load(open(X_train_ae, \"rb\"))\n",
    "X_train_cl = pickle.load(open(X_train_cl, \"rb\"))\n",
    "X_test_ae = pickle.load(open(X_test_ae, \"rb\"))\n",
    "X_test_cl = pickle.load(open(X_test_cl, \"rb\"))\n",
    "X_testBright_ae = pickle.load(open(X_testBright_ae, \"rb\"))\n",
    "X_testBright_cl = pickle.load(open(X_testBright_cl, \"rb\"))\n",
    "\n",
    "X_eval_ae = np.r_[X_test_ae, X_testBright_ae]\n",
    "X_eval_cl = np.r_[X_test_cl, X_testBright_cl]"
   ]
  },
  {
   "cell_type": "markdown",
   "id": "84c1665b",
   "metadata": {},
   "source": [
    "#### Load required raw data"
   ]
  },
  {
   "cell_type": "code",
   "execution_count": 3,
   "id": "263e42c7",
   "metadata": {},
   "outputs": [],
   "source": [
    "trainData_path = \"Data/train.p\"\n",
    "testData_path = \"Data/test.p\"\n",
    "testBrightnessData_path = \"Data/test_brightness_0.50.p\"\n",
    "\n",
    "(_, y_train) = pickle.load(open(trainData_path, \"rb\"))\n",
    "(X_test, y_test) = pickle.load(open(testData_path, \"rb\"))\n",
    "(X_test_bright, y_test_bright) = pickle.load(open(testBrightnessData_path, \"rb\"))\n",
    "\n",
    "X_test = X_test / 255.0\n",
    "X_test_bright = X_test_bright / 255.0"
   ]
  },
  {
   "cell_type": "markdown",
   "id": "5fa6dab0",
   "metadata": {},
   "source": [
    "#### Load classifier"
   ]
  },
  {
   "cell_type": "code",
   "execution_count": 4,
   "id": "91b414b1",
   "metadata": {},
   "outputs": [
    {
     "name": "stderr",
     "output_type": "stream",
     "text": [
      "2022-08-24 12:46:54.168216: I tensorflow/core/platform/cpu_feature_guard.cc:142] This TensorFlow binary is optimized with oneAPI Deep Neural Network Library (oneDNN) to use the following CPU instructions in performance-critical operations:  SSE4.1 SSE4.2 AVX AVX2 FMA\n",
      "To enable them in other operations, rebuild TensorFlow with the appropriate compiler flags.\n",
      "2022-08-24 12:46:54.169241: I tensorflow/stream_executor/cuda/cuda_gpu_executor.cc:941] successful NUMA node read from SysFS had negative value (-1), but there must be at least one NUMA node, so returning NUMA node zero\n",
      "2022-08-24 12:46:54.169483: I tensorflow/core/common_runtime/gpu/gpu_device.cc:1720] Found device 0 with properties: \n",
      "pciBusID: 0000:01:00.0 name: NVIDIA GeForce RTX 2080 SUPER computeCapability: 7.5\n",
      "coreClock: 1.815GHz coreCount: 48 deviceMemorySize: 7.79GiB deviceMemoryBandwidth: 462.00GiB/s\n",
      "2022-08-24 12:46:54.169507: I tensorflow/stream_executor/platform/default/dso_loader.cc:49] Successfully opened dynamic library libcudart.so.10.1\n",
      "2022-08-24 12:46:54.169538: I tensorflow/stream_executor/platform/default/dso_loader.cc:49] Successfully opened dynamic library libcublas.so.10\n",
      "2022-08-24 12:46:54.169550: I tensorflow/stream_executor/platform/default/dso_loader.cc:49] Successfully opened dynamic library libcublasLt.so.10\n",
      "2022-08-24 12:46:54.169560: I tensorflow/stream_executor/platform/default/dso_loader.cc:49] Successfully opened dynamic library libcufft.so.10\n",
      "2022-08-24 12:46:54.169570: I tensorflow/stream_executor/platform/default/dso_loader.cc:49] Successfully opened dynamic library libcurand.so.10\n",
      "2022-08-24 12:46:54.169580: I tensorflow/stream_executor/platform/default/dso_loader.cc:49] Successfully opened dynamic library libcusolver.so.10\n",
      "2022-08-24 12:46:54.169590: I tensorflow/stream_executor/platform/default/dso_loader.cc:49] Successfully opened dynamic library libcusparse.so.10\n",
      "2022-08-24 12:46:54.169600: I tensorflow/stream_executor/platform/default/dso_loader.cc:49] Successfully opened dynamic library libcudnn.so.7\n",
      "2022-08-24 12:46:54.169650: I tensorflow/stream_executor/cuda/cuda_gpu_executor.cc:941] successful NUMA node read from SysFS had negative value (-1), but there must be at least one NUMA node, so returning NUMA node zero\n",
      "2022-08-24 12:46:54.169886: I tensorflow/stream_executor/cuda/cuda_gpu_executor.cc:941] successful NUMA node read from SysFS had negative value (-1), but there must be at least one NUMA node, so returning NUMA node zero\n",
      "2022-08-24 12:46:54.170084: I tensorflow/core/common_runtime/gpu/gpu_device.cc:1862] Adding visible gpu devices: 0\n",
      "2022-08-24 12:46:54.170102: I tensorflow/stream_executor/platform/default/dso_loader.cc:49] Successfully opened dynamic library libcudart.so.10.1\n",
      "2022-08-24 12:46:54.483273: I tensorflow/core/common_runtime/gpu/gpu_device.cc:1261] Device interconnect StreamExecutor with strength 1 edge matrix:\n",
      "2022-08-24 12:46:54.483302: I tensorflow/core/common_runtime/gpu/gpu_device.cc:1267]      0 \n",
      "2022-08-24 12:46:54.483307: I tensorflow/core/common_runtime/gpu/gpu_device.cc:1280] 0:   N \n",
      "2022-08-24 12:46:54.483467: I tensorflow/stream_executor/cuda/cuda_gpu_executor.cc:941] successful NUMA node read from SysFS had negative value (-1), but there must be at least one NUMA node, so returning NUMA node zero\n",
      "2022-08-24 12:46:54.483809: I tensorflow/stream_executor/cuda/cuda_gpu_executor.cc:941] successful NUMA node read from SysFS had negative value (-1), but there must be at least one NUMA node, so returning NUMA node zero\n",
      "2022-08-24 12:46:54.484059: I tensorflow/stream_executor/cuda/cuda_gpu_executor.cc:941] successful NUMA node read from SysFS had negative value (-1), but there must be at least one NUMA node, so returning NUMA node zero\n",
      "2022-08-24 12:46:54.484283: I tensorflow/core/common_runtime/gpu/gpu_device.cc:1406] Created TensorFlow device (/job:localhost/replica:0/task:0/device:GPU:0 with 4096 MB memory) -> physical GPU (device: 0, name: NVIDIA GeForce RTX 2080 SUPER, pci bus id: 0000:01:00.0, compute capability: 7.5)\n",
      "2022-08-24 12:46:54.484452: I tensorflow/compiler/jit/xla_gpu_device.cc:99] Not creating XLA devices, tf_xla_enable_xla_devices not set\n"
     ]
    }
   ],
   "source": [
    "classifier_path = \"Models/classifier\"\n",
    "classifier = load_model(classifier_path)"
   ]
  },
  {
   "cell_type": "markdown",
   "id": "62fd5714",
   "metadata": {},
   "source": [
    "#### Compute monitoring labels"
   ]
  },
  {
   "cell_type": "code",
   "execution_count": 5,
   "id": "3df7ee61",
   "metadata": {},
   "outputs": [
    {
     "name": "stderr",
     "output_type": "stream",
     "text": [
      "2022-08-24 12:46:54.842773: W tensorflow/core/framework/cpu_allocator_impl.cc:80] Allocation of 122880000 exceeds 10% of free system memory.\n",
      "2022-08-24 12:46:54.890584: I tensorflow/compiler/mlir/mlir_graph_optimization_pass.cc:116] None of the MLIR optimization passes are enabled (registered 2)\n",
      "2022-08-24 12:46:54.910903: I tensorflow/core/platform/profile_utils/cpu_utils.cc:112] CPU Frequency: 3699850000 Hz\n",
      "2022-08-24 12:46:54.987927: I tensorflow/stream_executor/platform/default/dso_loader.cc:49] Successfully opened dynamic library libcublas.so.10\n",
      "2022-08-24 12:46:55.098213: I tensorflow/stream_executor/platform/default/dso_loader.cc:49] Successfully opened dynamic library libcudnn.so.7\n",
      "2022-08-24 12:46:55.960253: W tensorflow/core/framework/cpu_allocator_impl.cc:80] Allocation of 122880000 exceeds 10% of free system memory.\n"
     ]
    }
   ],
   "source": [
    "predictions_test = np.argmax(Softmax()(classifier.predict(X_test)).numpy(), axis=1)\n",
    "labels_test_oms = (predictions_test==y_test[:,0]).astype(np.int8)\n",
    "\n",
    "predictions_testBright = np.argmax(Softmax()(classifier.predict(X_test_bright)).numpy(), axis=1)\n",
    "labels_testBright_oms = (predictions_testBright==y_test_bright[:,0]).astype(np.int8)\n",
    "\n",
    "labels_test_oms = np.where(labels_test_oms==0, 1, 0)\n",
    "labels_testBright_oms = np.where(labels_testBright_oms==0, 1, 0)\n",
    "\n",
    "labels_oms = np.r_[labels_test_oms, labels_testBright_oms]  # Evaluation 1\n",
    "labels_ood = np.array([0] * X_test.shape[0] + [1] * X_test.shape[0])  # Evaluation 2"
   ]
  },
  {
   "cell_type": "markdown",
   "id": "4bd15385",
   "metadata": {},
   "source": [
    "#### Fit One Clas Classifiers"
   ]
  },
  {
   "cell_type": "code",
   "execution_count": 6,
   "id": "2b182728",
   "metadata": {},
   "outputs": [
    {
     "name": "stderr",
     "output_type": "stream",
     "text": [
      "100%|██████████████████████████████████████████████████████████████████████████████████████████████████████████████████████████████████████████████████████████████████████████████████████████| 10/10 [00:24<00:00,  2.41s/it]\n"
     ]
    }
   ],
   "source": [
    "eval_predictions = np.r_[predictions_test, predictions_testBright]\n",
    "eval_classes = np.r_[y_test, y_test_bright][:, 0]\n",
    "train_classes = y_train[:, 0]\n",
    "\n",
    "occ_ae = []\n",
    "\n",
    "for i in tqdm(range(10)):\n",
    "    occ_ae.append(IsolationForest(contamination=0.3, bootstrap=True).fit(X_train_ae[train_classes == i]))\n",
    "\n",
    "predict_ae = np.copy(eval_predictions)\n",
    "for i in range(10):\n",
    "    predict_ae[eval_predictions == i] = occ_ae[i].predict(X_eval_ae[eval_predictions == i])\n",
    "predict_ae = np.where(predict_ae==-1, 1, 0)"
   ]
  },
  {
   "cell_type": "code",
   "execution_count": 7,
   "id": "7cdb31de",
   "metadata": {},
   "outputs": [
    {
     "name": "stderr",
     "output_type": "stream",
     "text": [
      "100%|██████████████████████████████████████████████████████████████████████████████████████████████████████████████████████████████████████████████████████████████████████████████████████████| 10/10 [00:24<00:00,  2.42s/it]\n"
     ]
    }
   ],
   "source": [
    "occ_cl = []\n",
    "\n",
    "for i in tqdm(range(10)):\n",
    "    occ_cl.append(IsolationForest(contamination=0.3, bootstrap=True).fit(X_train_cl[train_classes == i]))\n",
    "    \n",
    "predict_cl = np.copy(eval_predictions)\n",
    "for i in range(10):\n",
    "    predict_cl[eval_predictions == i] = occ_cl[i].predict(X_eval_cl[eval_predictions == i])\n",
    "predict_cl = np.where(predict_cl==-1, 1, 0)"
   ]
  },
  {
   "cell_type": "markdown",
   "id": "afc853fe",
   "metadata": {},
   "source": [
    "#### Compute metrics"
   ]
  },
  {
   "cell_type": "code",
   "execution_count": 8,
   "id": "44a3081a",
   "metadata": {},
   "outputs": [
    {
     "name": "stdout",
     "output_type": "stream",
     "text": [
      "Evaluation 1: Detect Model Errors\n",
      "Auto-encoder features\n",
      "\n",
      "SG:  0.17815\n",
      "RH:  0.14605\n",
      "AC:  0.30245\n"
     ]
    }
   ],
   "source": [
    "print(\"Evaluation 1: Detect Model Errors\")\n",
    "print(\"Auto-encoder features\\n\")\n",
    "\n",
    "labels = labels_oms\n",
    "preds = predict_ae\n",
    "\n",
    "true_monitor_detection = 0\n",
    "monitor_miss = 0\n",
    "false_monitor_detection = 0\n",
    "total = 0\n",
    "for i, l in enumerate(labels):\n",
    "    total += 1\n",
    "    if l == 1:\n",
    "        if preds[i] == 1:\n",
    "            true_monitor_detection += 1\n",
    "        else:\n",
    "            monitor_miss += 1\n",
    "    if l == 0 and preds[i] == 1:\n",
    "        false_monitor_detection += 1\n",
    "\n",
    "print(\"SG: \", true_monitor_detection / total)\n",
    "print(\"RH: \", monitor_miss / total)\n",
    "print(\"AC: \", false_monitor_detection / total)"
   ]
  },
  {
   "cell_type": "code",
   "execution_count": 9,
   "id": "8eea56a2",
   "metadata": {},
   "outputs": [
    {
     "name": "stdout",
     "output_type": "stream",
     "text": [
      "Evaluation 2: Detect Runtime Threats\n",
      "Auto-encoder features\n",
      "\n",
      "SG:  0.3353\n",
      "RH:  0.1647\n",
      "AC:  0.1453\n"
     ]
    }
   ],
   "source": [
    "print(\"Evaluation 2: Detect Runtime Threats\")\n",
    "print(\"Auto-encoder features\\n\")\n",
    "\n",
    "labels = labels_ood\n",
    "preds = predict_ae\n",
    "\n",
    "true_monitor_detection = 0\n",
    "monitor_miss = 0\n",
    "false_monitor_detection = 0\n",
    "total = 0\n",
    "for i, l in enumerate(labels):\n",
    "    total += 1\n",
    "    if l == 1:\n",
    "        if preds[i] == 1:\n",
    "            true_monitor_detection += 1\n",
    "        else:\n",
    "            monitor_miss += 1\n",
    "    if l == 0 and preds[i] == 1:\n",
    "        false_monitor_detection += 1\n",
    "\n",
    "print(\"SG: \", true_monitor_detection / total)\n",
    "print(\"RH: \", monitor_miss / total)\n",
    "print(\"AC: \", false_monitor_detection / total)"
   ]
  },
  {
   "cell_type": "code",
   "execution_count": 10,
   "id": "322ac970",
   "metadata": {},
   "outputs": [
    {
     "name": "stdout",
     "output_type": "stream",
     "text": [
      "Evaluation 1: Detect Model Errors\n",
      "Classifier features\n",
      "\n",
      "SG:  0.0766\n",
      "RH:  0.2476\n",
      "AC:  0.1512\n"
     ]
    }
   ],
   "source": [
    "print(\"Evaluation 1: Detect Model Errors\")\n",
    "print(\"Classifier features\\n\")\n",
    "\n",
    "labels = labels_oms\n",
    "preds = predict_cl\n",
    "\n",
    "true_monitor_detection = 0\n",
    "monitor_miss = 0\n",
    "false_monitor_detection = 0\n",
    "total = 0\n",
    "for i, l in enumerate(labels):\n",
    "    total += 1\n",
    "    if l == 1:\n",
    "        if preds[i] == 1:\n",
    "            true_monitor_detection += 1\n",
    "        else:\n",
    "            monitor_miss += 1\n",
    "    if l == 0 and preds[i] == 1:\n",
    "        false_monitor_detection += 1\n",
    "\n",
    "print(\"SG: \", true_monitor_detection / total)\n",
    "print(\"RH: \", monitor_miss / total)\n",
    "print(\"AC: \", false_monitor_detection / total)"
   ]
  },
  {
   "cell_type": "code",
   "execution_count": 11,
   "id": "b9eb0aed",
   "metadata": {},
   "outputs": [
    {
     "name": "stdout",
     "output_type": "stream",
     "text": [
      "Evaluation 2: Detect Runtime Threats\n",
      "Classifier features\n",
      "\n",
      "SG:  0.0844\n",
      "RH:  0.4156\n",
      "AC:  0.1434\n"
     ]
    }
   ],
   "source": [
    "print(\"Evaluation 2: Detect Runtime Threats\")\n",
    "print(\"Classifier features\\n\")\n",
    "\n",
    "labels = labels_ood\n",
    "preds = predict_cl\n",
    "\n",
    "true_monitor_detection = 0\n",
    "monitor_miss = 0\n",
    "false_monitor_detection = 0\n",
    "total = 0\n",
    "for i, l in enumerate(labels):\n",
    "    total += 1\n",
    "    if l == 1:\n",
    "        if preds[i] == 1:\n",
    "            true_monitor_detection += 1\n",
    "        else:\n",
    "            monitor_miss += 1\n",
    "    if l == 0 and preds[i] == 1:\n",
    "        false_monitor_detection += 1\n",
    "\n",
    "print(\"SG: \", true_monitor_detection / total)\n",
    "print(\"RH: \", monitor_miss / total)\n",
    "print(\"AC: \", false_monitor_detection / total)"
   ]
  }
 ],
 "metadata": {
  "kernelspec": {
   "display_name": "Python 3 (ipykernel)",
   "language": "python",
   "name": "python3"
  },
  "language_info": {
   "codemirror_mode": {
    "name": "ipython",
    "version": 3
   },
   "file_extension": ".py",
   "mimetype": "text/x-python",
   "name": "python",
   "nbconvert_exporter": "python",
   "pygments_lexer": "ipython3",
   "version": "3.9.7"
  }
 },
 "nbformat": 4,
 "nbformat_minor": 5
}
