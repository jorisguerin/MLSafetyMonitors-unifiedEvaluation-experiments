{
 "cells": [
  {
   "cell_type": "markdown",
   "id": "60d08b65",
   "metadata": {},
   "source": [
    "## Imports"
   ]
  },
  {
   "cell_type": "code",
   "execution_count": 1,
   "id": "80345629",
   "metadata": {},
   "outputs": [
    {
     "name": "stderr",
     "output_type": "stream",
     "text": [
<<<<<<< HEAD
      "2022-09-08 09:52:30.054924: I tensorflow/stream_executor/platform/default/dso_loader.cc:49] Successfully opened dynamic library libcudart.so.10.1\n",
      "2022-09-08 09:52:32.145352: I tensorflow/compiler/jit/xla_cpu_device.cc:41] Not creating XLA devices, tf_xla_enable_xla_devices not set\n",
      "2022-09-08 09:52:32.149069: I tensorflow/stream_executor/platform/default/dso_loader.cc:49] Successfully opened dynamic library libcuda.so.1\n",
      "2022-09-08 09:52:32.225608: I tensorflow/stream_executor/cuda/cuda_gpu_executor.cc:941] successful NUMA node read from SysFS had negative value (-1), but there must be at least one NUMA node, so returning NUMA node zero\n",
      "2022-09-08 09:52:32.225994: I tensorflow/core/common_runtime/gpu/gpu_device.cc:1720] Found device 0 with properties: \n",
      "pciBusID: 0000:01:00.0 name: NVIDIA GeForce RTX 2080 SUPER computeCapability: 7.5\n",
      "coreClock: 1.815GHz coreCount: 48 deviceMemorySize: 7.79GiB deviceMemoryBandwidth: 462.00GiB/s\n",
      "2022-09-08 09:52:32.226009: I tensorflow/stream_executor/platform/default/dso_loader.cc:49] Successfully opened dynamic library libcudart.so.10.1\n",
      "2022-09-08 09:52:32.229297: I tensorflow/stream_executor/platform/default/dso_loader.cc:49] Successfully opened dynamic library libcublas.so.10\n",
      "2022-09-08 09:52:32.229333: I tensorflow/stream_executor/platform/default/dso_loader.cc:49] Successfully opened dynamic library libcublasLt.so.10\n",
      "2022-09-08 09:52:32.238698: I tensorflow/stream_executor/platform/default/dso_loader.cc:49] Successfully opened dynamic library libcufft.so.10\n",
      "2022-09-08 09:52:32.240041: I tensorflow/stream_executor/platform/default/dso_loader.cc:49] Successfully opened dynamic library libcurand.so.10\n",
      "2022-09-08 09:52:32.242935: I tensorflow/stream_executor/platform/default/dso_loader.cc:49] Successfully opened dynamic library libcusolver.so.10\n",
      "2022-09-08 09:52:32.244545: I tensorflow/stream_executor/platform/default/dso_loader.cc:49] Successfully opened dynamic library libcusparse.so.10\n",
      "2022-09-08 09:52:32.251775: I tensorflow/stream_executor/platform/default/dso_loader.cc:49] Successfully opened dynamic library libcudnn.so.7\n",
      "2022-09-08 09:52:32.251872: I tensorflow/stream_executor/cuda/cuda_gpu_executor.cc:941] successful NUMA node read from SysFS had negative value (-1), but there must be at least one NUMA node, so returning NUMA node zero\n",
      "2022-09-08 09:52:32.252151: I tensorflow/stream_executor/cuda/cuda_gpu_executor.cc:941] successful NUMA node read from SysFS had negative value (-1), but there must be at least one NUMA node, so returning NUMA node zero\n",
      "2022-09-08 09:52:32.252368: I tensorflow/core/common_runtime/gpu/gpu_device.cc:1862] Adding visible gpu devices: 0\n"
=======
      "2022-08-24 16:11:43.339672: I tensorflow/stream_executor/platform/default/dso_loader.cc:49] Successfully opened dynamic library libcudart.so.10.1\n",
      "2022-08-24 16:11:45.510918: I tensorflow/compiler/jit/xla_cpu_device.cc:41] Not creating XLA devices, tf_xla_enable_xla_devices not set\n",
      "2022-08-24 16:11:45.544258: I tensorflow/stream_executor/platform/default/dso_loader.cc:49] Successfully opened dynamic library libcuda.so.1\n",
      "2022-08-24 16:11:45.714756: I tensorflow/stream_executor/cuda/cuda_gpu_executor.cc:941] successful NUMA node read from SysFS had negative value (-1), but there must be at least one NUMA node, so returning NUMA node zero\n",
      "2022-08-24 16:11:45.716175: I tensorflow/core/common_runtime/gpu/gpu_device.cc:1720] Found device 0 with properties: \n",
      "pciBusID: 0000:01:00.0 name: Quadro P5000 computeCapability: 6.1\n",
      "coreClock: 1.506GHz coreCount: 16 deviceMemorySize: 15.90GiB deviceMemoryBandwidth: 178.99GiB/s\n",
      "2022-08-24 16:11:45.716221: I tensorflow/stream_executor/platform/default/dso_loader.cc:49] Successfully opened dynamic library libcudart.so.10.1\n",
      "2022-08-24 16:11:45.768688: I tensorflow/stream_executor/platform/default/dso_loader.cc:49] Successfully opened dynamic library libcublas.so.10\n",
      "2022-08-24 16:11:45.768821: I tensorflow/stream_executor/platform/default/dso_loader.cc:49] Successfully opened dynamic library libcublasLt.so.10\n",
      "2022-08-24 16:11:45.776087: I tensorflow/stream_executor/platform/default/dso_loader.cc:49] Successfully opened dynamic library libcufft.so.10\n",
      "2022-08-24 16:11:45.794597: I tensorflow/stream_executor/platform/default/dso_loader.cc:49] Successfully opened dynamic library libcurand.so.10\n",
      "2022-08-24 16:11:45.807790: I tensorflow/stream_executor/platform/default/dso_loader.cc:49] Successfully opened dynamic library libcusolver.so.10\n",
      "2022-08-24 16:11:45.814221: I tensorflow/stream_executor/platform/default/dso_loader.cc:49] Successfully opened dynamic library libcusparse.so.10\n",
      "2022-08-24 16:11:45.830508: I tensorflow/stream_executor/platform/default/dso_loader.cc:49] Successfully opened dynamic library libcudnn.so.7\n",
      "2022-08-24 16:11:45.830806: I tensorflow/stream_executor/cuda/cuda_gpu_executor.cc:941] successful NUMA node read from SysFS had negative value (-1), but there must be at least one NUMA node, so returning NUMA node zero\n",
      "2022-08-24 16:11:45.832156: I tensorflow/stream_executor/cuda/cuda_gpu_executor.cc:941] successful NUMA node read from SysFS had negative value (-1), but there must be at least one NUMA node, so returning NUMA node zero\n",
      "2022-08-24 16:11:45.833268: I tensorflow/core/common_runtime/gpu/gpu_device.cc:1862] Adding visible gpu devices: 0\n"
>>>>>>> 7d614be89bd55f549ab448a4eef984129380e70f
     ]
    }
   ],
   "source": [
    "import os\n",
    "import pickle\n",
    "from tqdm import tqdm\n",
    "\n",
    "import numpy as np\n",
    "\n",
    "import tensorflow as tf\n",
    "from tensorflow.keras.layers import Softmax\n",
    "from tensorflow.keras.models import load_model\n",
    "\n",
    "from sklearn.ensemble import IsolationForest\n",
    "\n",
    "import matplotlib.pyplot as plt\n",
    "\n",
    "gpus = tf.config.list_physical_devices('GPU')\n",
    "tf.config.set_logical_device_configuration(gpus[0],[tf.config.LogicalDeviceConfiguration(memory_limit=4096)])"
   ]
  },
  {
   "cell_type": "markdown",
   "id": "4d224e52",
   "metadata": {},
   "source": [
    "## Dataset and perturbation\n",
    "\n",
    "Run the *generate_perturbation.py* script"
   ]
  },
  {
   "cell_type": "markdown",
   "id": "b45222de",
   "metadata": {},
   "source": [
    "## Training neural networks\n",
    "To train the CIFAR10 classifier used in this use case, run the *train_classifier.py* script.\n",
    "\n",
    "To train the CIFAR10 auto-encoder used in this use case, run the *train_auto-encoder.py* script.\n",
    "\n",
    "If you don't want to re-run trainings, the pretrained weights used in our experiments can be downloaded from https://drive.google.com/file/d/1SzB2uqxehPMnh0ROqYsE2Nd34rdsXIu6/view?usp=sharing."
   ]
  },
  {
   "cell_type": "markdown",
   "id": "ee4097fb",
   "metadata": {},
   "source": [
    "## Extract features\n",
    "Once the data and perturbations have been generated and the pretrained models have been downloaded and extracted, run the *extract_features.py* script."
   ]
  },
  {
   "cell_type": "markdown",
   "id": "ffc448b0",
   "metadata": {},
   "source": [
    "## Reproduce results"
   ]
  },
  {
   "cell_type": "markdown",
   "id": "37945207",
   "metadata": {},
   "source": [
    "#### Load features"
   ]
  },
  {
   "cell_type": "code",
   "execution_count": 2,
   "id": "5bcd82b1",
   "metadata": {},
   "outputs": [],
   "source": [
    "X_train_ae = \"Data/train_features_ae.p\"\n",
    "X_train_cl = \"Data/train_features_classifier.p\"\n",
    "X_test_ae = \"Data/test_features_ae.p\"\n",
    "X_test_cl = \"Data/test_features_classifier.p\"\n",
    "X_testBright_ae = \"Data/test_bright_features_ae.p\"\n",
    "X_testBright_cl = \"Data/test_bright_features_classifier.p\"\n",
    "\n",
    "X_train_ae = pickle.load(open(X_train_ae, \"rb\"))\n",
    "X_train_cl = pickle.load(open(X_train_cl, \"rb\"))\n",
    "X_test_ae = pickle.load(open(X_test_ae, \"rb\"))\n",
    "X_test_cl = pickle.load(open(X_test_cl, \"rb\"))\n",
    "X_testBright_ae = pickle.load(open(X_testBright_ae, \"rb\"))\n",
    "X_testBright_cl = pickle.load(open(X_testBright_cl, \"rb\"))\n",
    "\n",
    "X_eval_ae = np.r_[X_test_ae, X_testBright_ae]\n",
    "X_eval_cl = np.r_[X_test_cl, X_testBright_cl]"
   ]
  },
  {
   "cell_type": "markdown",
   "id": "d325a55b",
   "metadata": {},
   "source": [
    "#### Load required raw data"
   ]
  },
  {
   "cell_type": "code",
   "execution_count": 3,
   "id": "ac9aebd8",
   "metadata": {},
   "outputs": [],
   "source": [
    "trainData_path = \"Data/train.p\"\n",
    "testData_path = \"Data/test.p\"\n",
    "testBrightnessData_path = \"Data/test_bright.p\"\n",
    "\n",
    "(_, y_train) = pickle.load(open(trainData_path, \"rb\"))\n",
    "(X_test, y_test) = pickle.load(open(testData_path, \"rb\"))\n",
    "(X_test_bright, y_test_bright) = pickle.load(open(testBrightnessData_path, \"rb\"))\n",
    "\n",
    "X_test = X_test / 255.0\n",
    "X_test_bright = X_test_bright / 255.0"
   ]
  },
  {
   "cell_type": "markdown",
   "id": "aa00b729",
   "metadata": {},
   "source": [
    "#### Load classifier"
   ]
  },
  {
   "cell_type": "code",
   "execution_count": 4,
   "id": "ba691172",
   "metadata": {},
   "outputs": [
    {
     "name": "stderr",
     "output_type": "stream",
     "text": [
<<<<<<< HEAD
      "2022-09-08 09:52:32.714862: I tensorflow/core/platform/cpu_feature_guard.cc:142] This TensorFlow binary is optimized with oneAPI Deep Neural Network Library (oneDNN) to use the following CPU instructions in performance-critical operations:  SSE4.1 SSE4.2 AVX AVX2 FMA\n",
      "To enable them in other operations, rebuild TensorFlow with the appropriate compiler flags.\n",
      "2022-09-08 09:52:32.715477: I tensorflow/stream_executor/cuda/cuda_gpu_executor.cc:941] successful NUMA node read from SysFS had negative value (-1), but there must be at least one NUMA node, so returning NUMA node zero\n",
      "2022-09-08 09:52:32.715722: I tensorflow/core/common_runtime/gpu/gpu_device.cc:1720] Found device 0 with properties: \n",
      "pciBusID: 0000:01:00.0 name: NVIDIA GeForce RTX 2080 SUPER computeCapability: 7.5\n",
      "coreClock: 1.815GHz coreCount: 48 deviceMemorySize: 7.79GiB deviceMemoryBandwidth: 462.00GiB/s\n",
      "2022-09-08 09:52:32.715744: I tensorflow/stream_executor/platform/default/dso_loader.cc:49] Successfully opened dynamic library libcudart.so.10.1\n",
      "2022-09-08 09:52:32.715769: I tensorflow/stream_executor/platform/default/dso_loader.cc:49] Successfully opened dynamic library libcublas.so.10\n",
      "2022-09-08 09:52:32.715780: I tensorflow/stream_executor/platform/default/dso_loader.cc:49] Successfully opened dynamic library libcublasLt.so.10\n",
      "2022-09-08 09:52:32.715790: I tensorflow/stream_executor/platform/default/dso_loader.cc:49] Successfully opened dynamic library libcufft.so.10\n",
      "2022-09-08 09:52:32.715800: I tensorflow/stream_executor/platform/default/dso_loader.cc:49] Successfully opened dynamic library libcurand.so.10\n",
      "2022-09-08 09:52:32.715810: I tensorflow/stream_executor/platform/default/dso_loader.cc:49] Successfully opened dynamic library libcusolver.so.10\n",
      "2022-09-08 09:52:32.715820: I tensorflow/stream_executor/platform/default/dso_loader.cc:49] Successfully opened dynamic library libcusparse.so.10\n",
      "2022-09-08 09:52:32.715831: I tensorflow/stream_executor/platform/default/dso_loader.cc:49] Successfully opened dynamic library libcudnn.so.7\n",
      "2022-09-08 09:52:32.715879: I tensorflow/stream_executor/cuda/cuda_gpu_executor.cc:941] successful NUMA node read from SysFS had negative value (-1), but there must be at least one NUMA node, so returning NUMA node zero\n",
      "2022-09-08 09:52:32.716115: I tensorflow/stream_executor/cuda/cuda_gpu_executor.cc:941] successful NUMA node read from SysFS had negative value (-1), but there must be at least one NUMA node, so returning NUMA node zero\n",
      "2022-09-08 09:52:32.716314: I tensorflow/core/common_runtime/gpu/gpu_device.cc:1862] Adding visible gpu devices: 0\n",
      "2022-09-08 09:52:32.716555: I tensorflow/stream_executor/platform/default/dso_loader.cc:49] Successfully opened dynamic library libcudart.so.10.1\n",
      "2022-09-08 09:52:33.118956: I tensorflow/core/common_runtime/gpu/gpu_device.cc:1261] Device interconnect StreamExecutor with strength 1 edge matrix:\n",
      "2022-09-08 09:52:33.118976: I tensorflow/core/common_runtime/gpu/gpu_device.cc:1267]      0 \n",
      "2022-09-08 09:52:33.118980: I tensorflow/core/common_runtime/gpu/gpu_device.cc:1280] 0:   N \n",
      "2022-09-08 09:52:33.119342: I tensorflow/stream_executor/cuda/cuda_gpu_executor.cc:941] successful NUMA node read from SysFS had negative value (-1), but there must be at least one NUMA node, so returning NUMA node zero\n",
      "2022-09-08 09:52:33.119628: I tensorflow/stream_executor/cuda/cuda_gpu_executor.cc:941] successful NUMA node read from SysFS had negative value (-1), but there must be at least one NUMA node, so returning NUMA node zero\n",
      "2022-09-08 09:52:33.119865: I tensorflow/stream_executor/cuda/cuda_gpu_executor.cc:941] successful NUMA node read from SysFS had negative value (-1), but there must be at least one NUMA node, so returning NUMA node zero\n",
      "2022-09-08 09:52:33.120080: I tensorflow/core/common_runtime/gpu/gpu_device.cc:1406] Created TensorFlow device (/job:localhost/replica:0/task:0/device:GPU:0 with 4096 MB memory) -> physical GPU (device: 0, name: NVIDIA GeForce RTX 2080 SUPER, pci bus id: 0000:01:00.0, compute capability: 7.5)\n",
      "2022-09-08 09:52:33.120428: I tensorflow/compiler/jit/xla_gpu_device.cc:99] Not creating XLA devices, tf_xla_enable_xla_devices not set\n"
=======
      "2022-08-24 16:11:48.307501: I tensorflow/core/platform/cpu_feature_guard.cc:142] This TensorFlow binary is optimized with oneAPI Deep Neural Network Library (oneDNN) to use the following CPU instructions in performance-critical operations:  SSE4.1 SSE4.2 AVX AVX2 FMA\n",
      "To enable them in other operations, rebuild TensorFlow with the appropriate compiler flags.\n",
      "2022-08-24 16:11:48.308293: I tensorflow/stream_executor/cuda/cuda_gpu_executor.cc:941] successful NUMA node read from SysFS had negative value (-1), but there must be at least one NUMA node, so returning NUMA node zero\n",
      "2022-08-24 16:11:48.309574: I tensorflow/core/common_runtime/gpu/gpu_device.cc:1720] Found device 0 with properties: \n",
      "pciBusID: 0000:01:00.0 name: Quadro P5000 computeCapability: 6.1\n",
      "coreClock: 1.506GHz coreCount: 16 deviceMemorySize: 15.90GiB deviceMemoryBandwidth: 178.99GiB/s\n",
      "2022-08-24 16:11:48.309622: I tensorflow/stream_executor/platform/default/dso_loader.cc:49] Successfully opened dynamic library libcudart.so.10.1\n",
      "2022-08-24 16:11:48.309674: I tensorflow/stream_executor/platform/default/dso_loader.cc:49] Successfully opened dynamic library libcublas.so.10\n",
      "2022-08-24 16:11:48.309711: I tensorflow/stream_executor/platform/default/dso_loader.cc:49] Successfully opened dynamic library libcublasLt.so.10\n",
      "2022-08-24 16:11:48.309746: I tensorflow/stream_executor/platform/default/dso_loader.cc:49] Successfully opened dynamic library libcufft.so.10\n",
      "2022-08-24 16:11:48.309781: I tensorflow/stream_executor/platform/default/dso_loader.cc:49] Successfully opened dynamic library libcurand.so.10\n",
      "2022-08-24 16:11:48.309816: I tensorflow/stream_executor/platform/default/dso_loader.cc:49] Successfully opened dynamic library libcusolver.so.10\n",
      "2022-08-24 16:11:48.309854: I tensorflow/stream_executor/platform/default/dso_loader.cc:49] Successfully opened dynamic library libcusparse.so.10\n",
      "2022-08-24 16:11:48.309890: I tensorflow/stream_executor/platform/default/dso_loader.cc:49] Successfully opened dynamic library libcudnn.so.7\n",
      "2022-08-24 16:11:48.310050: I tensorflow/stream_executor/cuda/cuda_gpu_executor.cc:941] successful NUMA node read from SysFS had negative value (-1), but there must be at least one NUMA node, so returning NUMA node zero\n",
      "2022-08-24 16:11:48.311330: I tensorflow/stream_executor/cuda/cuda_gpu_executor.cc:941] successful NUMA node read from SysFS had negative value (-1), but there must be at least one NUMA node, so returning NUMA node zero\n",
      "2022-08-24 16:11:48.312423: I tensorflow/core/common_runtime/gpu/gpu_device.cc:1862] Adding visible gpu devices: 0\n",
      "2022-08-24 16:11:48.312481: I tensorflow/stream_executor/platform/default/dso_loader.cc:49] Successfully opened dynamic library libcudart.so.10.1\n",
      "2022-08-24 16:11:48.731423: I tensorflow/core/common_runtime/gpu/gpu_device.cc:1261] Device interconnect StreamExecutor with strength 1 edge matrix:\n",
      "2022-08-24 16:11:48.731458: I tensorflow/core/common_runtime/gpu/gpu_device.cc:1267]      0 \n",
      "2022-08-24 16:11:48.731464: I tensorflow/core/common_runtime/gpu/gpu_device.cc:1280] 0:   N \n",
      "2022-08-24 16:11:48.731626: I tensorflow/stream_executor/cuda/cuda_gpu_executor.cc:941] successful NUMA node read from SysFS had negative value (-1), but there must be at least one NUMA node, so returning NUMA node zero\n",
      "2022-08-24 16:11:48.732176: I tensorflow/stream_executor/cuda/cuda_gpu_executor.cc:941] successful NUMA node read from SysFS had negative value (-1), but there must be at least one NUMA node, so returning NUMA node zero\n",
      "2022-08-24 16:11:48.732666: I tensorflow/stream_executor/cuda/cuda_gpu_executor.cc:941] successful NUMA node read from SysFS had negative value (-1), but there must be at least one NUMA node, so returning NUMA node zero\n",
      "2022-08-24 16:11:48.733193: I tensorflow/core/common_runtime/gpu/gpu_device.cc:1406] Created TensorFlow device (/job:localhost/replica:0/task:0/device:GPU:0 with 4096 MB memory) -> physical GPU (device: 0, name: Quadro P5000, pci bus id: 0000:01:00.0, compute capability: 6.1)\n",
      "2022-08-24 16:11:48.733484: I tensorflow/compiler/jit/xla_gpu_device.cc:99] Not creating XLA devices, tf_xla_enable_xla_devices not set\n"
>>>>>>> 7d614be89bd55f549ab448a4eef984129380e70f
     ]
    }
   ],
   "source": [
    "classifier_path = \"Models/classifier\"\n",
    "classifier = load_model(classifier_path)"
   ]
  },
  {
   "cell_type": "markdown",
   "id": "6dd73d59",
   "metadata": {},
   "source": [
    "#### Compute monitoring labels"
   ]
  },
  {
   "cell_type": "code",
   "execution_count": 5,
   "id": "99645410",
   "metadata": {},
   "outputs": [
    {
     "name": "stderr",
     "output_type": "stream",
     "text": [
<<<<<<< HEAD
      "2022-09-08 09:52:33.549507: I tensorflow/compiler/mlir/mlir_graph_optimization_pass.cc:116] None of the MLIR optimization passes are enabled (registered 2)\n",
      "2022-09-08 09:52:33.573552: I tensorflow/core/platform/profile_utils/cpu_utils.cc:112] CPU Frequency: 3699850000 Hz\n",
      "2022-09-08 09:52:33.638434: I tensorflow/stream_executor/platform/default/dso_loader.cc:49] Successfully opened dynamic library libcublas.so.10\n",
      "2022-09-08 09:52:33.765811: I tensorflow/stream_executor/platform/default/dso_loader.cc:49] Successfully opened dynamic library libcudnn.so.7\n"
=======
      "2022-08-24 16:11:49.420480: I tensorflow/compiler/mlir/mlir_graph_optimization_pass.cc:116] None of the MLIR optimization passes are enabled (registered 2)\n",
      "2022-08-24 16:11:49.438346: I tensorflow/core/platform/profile_utils/cpu_utils.cc:112] CPU Frequency: 2899885000 Hz\n",
      "2022-08-24 16:11:49.561153: I tensorflow/stream_executor/platform/default/dso_loader.cc:49] Successfully opened dynamic library libcublas.so.10\n",
      "2022-08-24 16:11:49.693184: I tensorflow/stream_executor/platform/default/dso_loader.cc:49] Successfully opened dynamic library libcudnn.so.7\n",
      "2022-08-24 16:11:50.252717: W tensorflow/stream_executor/gpu/asm_compiler.cc:98] *** WARNING *** You are using ptxas 9.1.108, which is older than 9.2.88. ptxas 9.x before 9.2.88 is known to miscompile XLA code, leading to incorrect results or invalid-address errors.\n",
      "\n",
      "You do not need to update to CUDA 9.2.88; cherry-picking the ptxas binary is sufficient.\n"
>>>>>>> 7d614be89bd55f549ab448a4eef984129380e70f
     ]
    }
   ],
   "source": [
    "predictions_test = np.argmax(Softmax()(classifier.predict(X_test)).numpy(), axis=1)\n",
    "labels_test_oms = (predictions_test==y_test[:,0]).astype(np.int8)\n",
    "\n",
    "predictions_testBright = np.argmax(Softmax()(classifier.predict(X_test_bright)).numpy(), axis=1)\n",
    "labels_testBright_oms = (predictions_testBright==y_test_bright[:,0]).astype(np.int8)\n",
    "\n",
    "labels_test_oms = np.where(labels_test_oms==0, 1, 0)\n",
    "labels_testBright_oms = np.where(labels_testBright_oms==0, 1, 0)\n",
    "\n",
    "labels_oms = np.r_[labels_test_oms, labels_testBright_oms]  # Evaluation 1\n",
    "labels_ood = np.array([0] * X_test.shape[0] + [1] * X_test.shape[0])  # Evaluation 2"
   ]
  },
  {
   "cell_type": "markdown",
   "id": "a4950a5a",
   "metadata": {},
   "source": [
    "#### Fit One Class Classifiers"
   ]
  },
  {
   "cell_type": "code",
   "execution_count": 6,
   "id": "ea4effad",
   "metadata": {},
   "outputs": [
    {
     "name": "stderr",
     "output_type": "stream",
     "text": [
<<<<<<< HEAD
      "100%|██████████████████████████████████████████████████████████████████████████████████████████████████████████████████████████████████████████████████████████████████████████████████████████| 10/10 [00:31<00:00,  3.19s/it]\n"
=======
      "100%|███████████████████████████████████████████████████████████████████████████████████████████████████████████████████████████████████████████████████████████████████████████████████████████████████| 10/10 [00:45<00:00,  4.55s/it]\n"
>>>>>>> 7d614be89bd55f549ab448a4eef984129380e70f
     ]
    }
   ],
   "source": [
    "eval_predictions = np.r_[predictions_test, predictions_testBright]\n",
    "eval_classes = np.r_[y_test, y_test_bright][:, 0]\n",
    "train_classes = y_train[:, 0]\n",
    "\n",
    "occ_ae = []\n",
    "\n",
    "for i in tqdm(range(10)):\n",
    "    occ_ae.append(IsolationForest(contamination=0.3, bootstrap=True).fit(X_train_ae[train_classes == i]))\n",
    "\n",
    "predict_ae = np.copy(eval_predictions)\n",
    "for i in range(10):\n",
    "    predict_ae[eval_predictions == i] = occ_ae[i].predict(X_eval_ae[eval_predictions == i])\n",
    "predict_ae = np.where(predict_ae==-1, 1, 0)"
   ]
  },
  {
   "cell_type": "code",
   "execution_count": 7,
   "id": "b4ade8e0",
   "metadata": {},
   "outputs": [
    {
     "name": "stderr",
     "output_type": "stream",
     "text": [
<<<<<<< HEAD
      "100%|██████████████████████████████████████████████████████████████████████████████████████████████████████████████████████████████████████████████████████████████████████████████████████████| 10/10 [00:31<00:00,  3.18s/it]\n"
=======
      "100%|███████████████████████████████████████████████████████████████████████████████████████████████████████████████████████████████████████████████████████████████████████████████████████████████████| 10/10 [00:45<00:00,  4.50s/it]\n"
>>>>>>> 7d614be89bd55f549ab448a4eef984129380e70f
     ]
    }
   ],
   "source": [
    "occ_cl = []\n",
    "\n",
    "for i in tqdm(range(10)):\n",
    "    occ_cl.append(IsolationForest(contamination=0.3, bootstrap=True).fit(X_train_cl[train_classes == i]))\n",
    "    \n",
    "predict_cl = np.copy(eval_predictions)\n",
    "for i in range(10):\n",
    "    predict_cl[eval_predictions == i] = occ_cl[i].predict(X_eval_cl[eval_predictions == i])\n",
    "predict_cl = np.where(predict_cl==-1, 1, 0)"
   ]
  },
  {
   "cell_type": "markdown",
   "id": "3c135fe9",
   "metadata": {},
   "source": [
    "#### Compute metrics"
   ]
  },
  {
   "cell_type": "code",
   "execution_count": 8,
   "id": "1b382a72",
   "metadata": {},
   "outputs": [
    {
     "name": "stdout",
     "output_type": "stream",
     "text": [
      "Evaluation 1: Detect Model Errors\n",
      "Auto-encoder features\n",
      "\n",
<<<<<<< HEAD
      "SG:  0.07165\n",
      "RH:  0.14095\n",
      "AC:  0.21995\n"
=======
      "SG:  0.0767\n",
      "RH:  0.14945\n",
      "AC:  0.2265\n"
>>>>>>> 7d614be89bd55f549ab448a4eef984129380e70f
     ]
    }
   ],
   "source": [
    "print(\"Evaluation 1: Detect Model Errors\")\n",
    "print(\"Auto-encoder features\\n\")\n",
    "\n",
    "labels = labels_oms\n",
    "preds = predict_ae\n",
    "\n",
    "true_monitor_detection = 0\n",
    "monitor_miss = 0\n",
    "false_monitor_detection = 0\n",
    "total = 0\n",
    "for i, l in enumerate(labels):\n",
    "    total += 1\n",
    "    if l == 1:\n",
    "        if preds[i] == 1:\n",
    "            true_monitor_detection += 1\n",
    "        else:\n",
    "            monitor_miss += 1\n",
    "    if l == 0 and preds[i] == 1:\n",
    "        false_monitor_detection += 1\n",
    "\n",
    "print(\"SG: \", true_monitor_detection / total)\n",
    "print(\"RH: \", monitor_miss / total)\n",
    "print(\"AC: \", false_monitor_detection / total)"
   ]
  },
  {
   "cell_type": "code",
   "execution_count": 9,
   "id": "5d826bbb",
   "metadata": {},
   "outputs": [
    {
     "name": "stdout",
     "output_type": "stream",
     "text": [
      "Evaluation 2: Detect Runtime Threats\n",
      "Auto-encoder features\n",
      "\n",
<<<<<<< HEAD
      "SG:  0.14695\n",
      "RH:  0.35305\n",
      "AC:  0.14465\n"
=======
      "SG:  0.1519\n",
      "RH:  0.3481\n",
      "AC:  0.1513\n"
>>>>>>> 7d614be89bd55f549ab448a4eef984129380e70f
     ]
    }
   ],
   "source": [
    "print(\"Evaluation 2: Detect Runtime Threats\")\n",
    "print(\"Auto-encoder features\\n\")\n",
    "\n",
    "labels = labels_ood\n",
    "preds = predict_ae\n",
    "\n",
    "true_monitor_detection = 0\n",
    "monitor_miss = 0\n",
    "false_monitor_detection = 0\n",
    "total = 0\n",
    "for i, l in enumerate(labels):\n",
    "    total += 1\n",
    "    if l == 1:\n",
    "        if preds[i] == 1:\n",
    "            true_monitor_detection += 1\n",
    "        else:\n",
    "            monitor_miss += 1\n",
    "    if l == 0 and preds[i] == 1:\n",
    "        false_monitor_detection += 1\n",
    "\n",
    "print(\"SG: \", true_monitor_detection / total)\n",
    "print(\"RH: \", monitor_miss / total)\n",
    "print(\"AC: \", false_monitor_detection / total)"
   ]
  },
  {
   "cell_type": "code",
   "execution_count": 10,
   "id": "2feb779c",
   "metadata": {},
   "outputs": [
    {
     "name": "stdout",
     "output_type": "stream",
     "text": [
      "Evaluation 1: Detect Model Errors\n",
      "Classifier features\n",
      "\n",
<<<<<<< HEAD
      "SG:  0.07445\n",
      "RH:  0.13815\n",
      "AC:  0.217\n"
=======
      "SG:  0.0821\n",
      "RH:  0.14405\n",
      "AC:  0.2089\n"
>>>>>>> 7d614be89bd55f549ab448a4eef984129380e70f
     ]
    }
   ],
   "source": [
    "print(\"Evaluation 1: Detect Model Errors\")\n",
    "print(\"Classifier features\\n\")\n",
    "\n",
    "labels = labels_oms\n",
    "preds = predict_cl\n",
    "\n",
    "true_monitor_detection = 0\n",
    "monitor_miss = 0\n",
    "false_monitor_detection = 0\n",
    "total = 0\n",
    "for i, l in enumerate(labels):\n",
    "    total += 1\n",
    "    if l == 1:\n",
    "        if preds[i] == 1:\n",
    "            true_monitor_detection += 1\n",
    "        else:\n",
    "            monitor_miss += 1\n",
    "    if l == 0 and preds[i] == 1:\n",
    "        false_monitor_detection += 1\n",
    "\n",
    "print(\"SG: \", true_monitor_detection / total)\n",
    "print(\"RH: \", monitor_miss / total)\n",
    "print(\"AC: \", false_monitor_detection / total)"
   ]
  },
  {
   "cell_type": "code",
   "execution_count": 11,
   "id": "0312e881",
   "metadata": {},
   "outputs": [
    {
     "name": "stdout",
     "output_type": "stream",
     "text": [
      "Evaluation 2: Detect Runtime Threats\n",
      "Classifier features\n",
      "\n",
<<<<<<< HEAD
      "SG:  0.14555\n",
      "RH:  0.35445\n",
      "AC:  0.1459\n"
=======
      "SG:  0.14585\n",
      "RH:  0.35415\n",
      "AC:  0.14515\n"
>>>>>>> 7d614be89bd55f549ab448a4eef984129380e70f
     ]
    }
   ],
   "source": [
    "print(\"Evaluation 2: Detect Runtime Threats\")\n",
    "print(\"Classifier features\\n\")\n",
    "\n",
    "labels = labels_ood\n",
    "preds = predict_cl\n",
    "\n",
    "true_monitor_detection = 0\n",
    "monitor_miss = 0\n",
    "false_monitor_detection = 0\n",
    "total = 0\n",
    "for i, l in enumerate(labels):\n",
    "    total += 1\n",
    "    if l == 1:\n",
    "        if preds[i] == 1:\n",
    "            true_monitor_detection += 1\n",
    "        else:\n",
    "            monitor_miss += 1\n",
    "    if l == 0 and preds[i] == 1:\n",
    "        false_monitor_detection += 1\n",
    "\n",
    "print(\"SG: \", true_monitor_detection / total)\n",
    "print(\"RH: \", monitor_miss / total)\n",
    "print(\"AC: \", false_monitor_detection / total)"
   ]
  },
  {
   "cell_type": "code",
   "execution_count": null,
   "id": "e23ed2b0",
   "metadata": {},
   "outputs": [],
   "source": []
  }
 ],
 "metadata": {
  "kernelspec": {
   "display_name": "Python 3",
   "language": "python",
   "name": "python3"
  },
  "language_info": {
   "codemirror_mode": {
    "name": "ipython",
    "version": 3
   },
   "file_extension": ".py",
   "mimetype": "text/x-python",
   "name": "python",
   "nbconvert_exporter": "python",
   "pygments_lexer": "ipython3",
   "version": "3.9.7"
  }
 },
 "nbformat": 4,
 "nbformat_minor": 5
}
