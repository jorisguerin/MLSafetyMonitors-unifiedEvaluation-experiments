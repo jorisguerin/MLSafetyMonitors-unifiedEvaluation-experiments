{
 "cells": [
  {
   "cell_type": "markdown",
   "id": "60d08b65",
   "metadata": {},
   "source": [
    "## Imports"
   ]
  },
  {
   "cell_type": "code",
   "execution_count": 1,
   "id": "80345629",
   "metadata": {},
   "outputs": [
    {
     "name": "stderr",
     "output_type": "stream",
     "text": [
      "2022-09-08 09:52:30.054924: I tensorflow/stream_executor/platform/default/dso_loader.cc:49] Successfully opened dynamic library libcudart.so.10.1\n",
      "2022-09-08 09:52:32.145352: I tensorflow/compiler/jit/xla_cpu_device.cc:41] Not creating XLA devices, tf_xla_enable_xla_devices not set\n",
      "2022-09-08 09:52:32.149069: I tensorflow/stream_executor/platform/default/dso_loader.cc:49] Successfully opened dynamic library libcuda.so.1\n",
      "2022-09-08 09:52:32.225608: I tensorflow/stream_executor/cuda/cuda_gpu_executor.cc:941] successful NUMA node read from SysFS had negative value (-1), but there must be at least one NUMA node, so returning NUMA node zero\n",
      "2022-09-08 09:52:32.225994: I tensorflow/core/common_runtime/gpu/gpu_device.cc:1720] Found device 0 with properties: \n",
      "pciBusID: 0000:01:00.0 name: NVIDIA GeForce RTX 2080 SUPER computeCapability: 7.5\n",
      "coreClock: 1.815GHz coreCount: 48 deviceMemorySize: 7.79GiB deviceMemoryBandwidth: 462.00GiB/s\n",
      "2022-09-08 09:52:32.226009: I tensorflow/stream_executor/platform/default/dso_loader.cc:49] Successfully opened dynamic library libcudart.so.10.1\n",
      "2022-09-08 09:52:32.229297: I tensorflow/stream_executor/platform/default/dso_loader.cc:49] Successfully opened dynamic library libcublas.so.10\n",
      "2022-09-08 09:52:32.229333: I tensorflow/stream_executor/platform/default/dso_loader.cc:49] Successfully opened dynamic library libcublasLt.so.10\n",
      "2022-09-08 09:52:32.238698: I tensorflow/stream_executor/platform/default/dso_loader.cc:49] Successfully opened dynamic library libcufft.so.10\n",
      "2022-09-08 09:52:32.240041: I tensorflow/stream_executor/platform/default/dso_loader.cc:49] Successfully opened dynamic library libcurand.so.10\n",
      "2022-09-08 09:52:32.242935: I tensorflow/stream_executor/platform/default/dso_loader.cc:49] Successfully opened dynamic library libcusolver.so.10\n",
      "2022-09-08 09:52:32.244545: I tensorflow/stream_executor/platform/default/dso_loader.cc:49] Successfully opened dynamic library libcusparse.so.10\n",
      "2022-09-08 09:52:32.251775: I tensorflow/stream_executor/platform/default/dso_loader.cc:49] Successfully opened dynamic library libcudnn.so.7\n",
      "2022-09-08 09:52:32.251872: I tensorflow/stream_executor/cuda/cuda_gpu_executor.cc:941] successful NUMA node read from SysFS had negative value (-1), but there must be at least one NUMA node, so returning NUMA node zero\n",
      "2022-09-08 09:52:32.252151: I tensorflow/stream_executor/cuda/cuda_gpu_executor.cc:941] successful NUMA node read from SysFS had negative value (-1), but there must be at least one NUMA node, so returning NUMA node zero\n",
      "2022-09-08 09:52:32.252368: I tensorflow/core/common_runtime/gpu/gpu_device.cc:1862] Adding visible gpu devices: 0\n"
     ]
    }
   ],
   "source": [
    "import os\n",
    "import pickle\n",
    "from tqdm import tqdm\n",
    "\n",
    "import numpy as np\n",
    "\n",
    "import tensorflow as tf\n",
    "from tensorflow.keras.layers import Softmax\n",
    "from tensorflow.keras.models import load_model\n",
    "\n",
    "from sklearn.ensemble import IsolationForest\n",
    "\n",
    "import matplotlib.pyplot as plt\n",
    "\n",
    "gpus = tf.config.list_physical_devices('GPU')\n",
    "tf.config.set_logical_device_configuration(gpus[0],[tf.config.LogicalDeviceConfiguration(memory_limit=4096)])"
   ]
  },
  {
   "cell_type": "markdown",
   "id": "4d224e52",
   "metadata": {},
   "source": [
    "## Dataset and perturbation\n",
    "\n",
    "Run the *generate_perturbation.py* script"
   ]
  },
  {
   "cell_type": "markdown",
   "id": "b45222de",
   "metadata": {},
   "source": [
    "## Training neural networks\n",
    "To train the CIFAR10 classifier used in this use case, run the *train_classifier.py* script.\n",
    "\n",
    "To train the CIFAR10 auto-encoder used in this use case, run the *train_auto-encoder.py* script.\n",
    "\n",
    "If you don't want to re-run trainings, the pretrained weights used in our experiments can be downloaded from https://drive.google.com/file/d/1SzB2uqxehPMnh0ROqYsE2Nd34rdsXIu6/view?usp=sharing."
   ]
  },
  {
   "cell_type": "markdown",
   "id": "ee4097fb",
   "metadata": {},
   "source": [
    "## Extract features\n",
    "Once the data and perturbations have been generated and the pretrained models have been downloaded and extracted, run the *extract_features.py* script."
   ]
  },
  {
   "cell_type": "markdown",
   "id": "ffc448b0",
   "metadata": {},
   "source": [
    "## Reproduce results"
   ]
  },
  {
   "cell_type": "markdown",
   "id": "37945207",
   "metadata": {},
   "source": [
    "#### Load features"
   ]
  },
  {
   "cell_type": "code",
   "execution_count": 2,
   "id": "5bcd82b1",
   "metadata": {},
   "outputs": [],
   "source": [
    "X_train_ae = \"Data/train_features_ae.p\"\n",
    "X_train_cl = \"Data/train_features_classifier.p\"\n",
    "X_test_ae = \"Data/test_features_ae.p\"\n",
    "X_test_cl = \"Data/test_features_classifier.p\"\n",
    "X_testBright_ae = \"Data/test_bright_features_ae.p\"\n",
    "X_testBright_cl = \"Data/test_bright_features_classifier.p\"\n",
    "\n",
    "X_train_ae = pickle.load(open(X_train_ae, \"rb\"))\n",
    "X_train_cl = pickle.load(open(X_train_cl, \"rb\"))\n",
    "X_test_ae = pickle.load(open(X_test_ae, \"rb\"))\n",
    "X_test_cl = pickle.load(open(X_test_cl, \"rb\"))\n",
    "X_testBright_ae = pickle.load(open(X_testBright_ae, \"rb\"))\n",
    "X_testBright_cl = pickle.load(open(X_testBright_cl, \"rb\"))\n",
    "\n",
    "X_eval_ae = np.r_[X_test_ae, X_testBright_ae]\n",
    "X_eval_cl = np.r_[X_test_cl, X_testBright_cl]"
   ]
  },
  {
   "cell_type": "markdown",
   "id": "d325a55b",
   "metadata": {},
   "source": [
    "#### Load required raw data"
   ]
  },
  {
   "cell_type": "code",
   "execution_count": 3,
   "id": "ac9aebd8",
   "metadata": {},
   "outputs": [],
   "source": [
    "trainData_path = \"Data/train.p\"\n",
    "testData_path = \"Data/test.p\"\n",
    "testBrightnessData_path = \"Data/test_bright.p\"\n",
    "\n",
    "(_, y_train) = pickle.load(open(trainData_path, \"rb\"))\n",
    "(X_test, y_test) = pickle.load(open(testData_path, \"rb\"))\n",
    "(X_test_bright, y_test_bright) = pickle.load(open(testBrightnessData_path, \"rb\"))\n",
    "\n",
    "X_test = X_test / 255.0\n",
    "X_test_bright = X_test_bright / 255.0"
   ]
  },
  {
   "cell_type": "markdown",
   "id": "aa00b729",
   "metadata": {},
   "source": [
    "#### Load classifier"
   ]
  },
  {
   "cell_type": "code",
   "execution_count": 4,
   "id": "ba691172",
   "metadata": {},
   "outputs": [
    {
     "name": "stderr",
     "output_type": "stream",
     "text": [
      "2022-09-08 09:52:32.714862: I tensorflow/core/platform/cpu_feature_guard.cc:142] This TensorFlow binary is optimized with oneAPI Deep Neural Network Library (oneDNN) to use the following CPU instructions in performance-critical operations:  SSE4.1 SSE4.2 AVX AVX2 FMA\n",
      "To enable them in other operations, rebuild TensorFlow with the appropriate compiler flags.\n",
      "2022-09-08 09:52:32.715477: I tensorflow/stream_executor/cuda/cuda_gpu_executor.cc:941] successful NUMA node read from SysFS had negative value (-1), but there must be at least one NUMA node, so returning NUMA node zero\n",
      "2022-09-08 09:52:32.715722: I tensorflow/core/common_runtime/gpu/gpu_device.cc:1720] Found device 0 with properties: \n",
      "pciBusID: 0000:01:00.0 name: NVIDIA GeForce RTX 2080 SUPER computeCapability: 7.5\n",
      "coreClock: 1.815GHz coreCount: 48 deviceMemorySize: 7.79GiB deviceMemoryBandwidth: 462.00GiB/s\n",
      "2022-09-08 09:52:32.715744: I tensorflow/stream_executor/platform/default/dso_loader.cc:49] Successfully opened dynamic library libcudart.so.10.1\n",
      "2022-09-08 09:52:32.715769: I tensorflow/stream_executor/platform/default/dso_loader.cc:49] Successfully opened dynamic library libcublas.so.10\n",
      "2022-09-08 09:52:32.715780: I tensorflow/stream_executor/platform/default/dso_loader.cc:49] Successfully opened dynamic library libcublasLt.so.10\n",
      "2022-09-08 09:52:32.715790: I tensorflow/stream_executor/platform/default/dso_loader.cc:49] Successfully opened dynamic library libcufft.so.10\n",
      "2022-09-08 09:52:32.715800: I tensorflow/stream_executor/platform/default/dso_loader.cc:49] Successfully opened dynamic library libcurand.so.10\n",
      "2022-09-08 09:52:32.715810: I tensorflow/stream_executor/platform/default/dso_loader.cc:49] Successfully opened dynamic library libcusolver.so.10\n",
      "2022-09-08 09:52:32.715820: I tensorflow/stream_executor/platform/default/dso_loader.cc:49] Successfully opened dynamic library libcusparse.so.10\n",
      "2022-09-08 09:52:32.715831: I tensorflow/stream_executor/platform/default/dso_loader.cc:49] Successfully opened dynamic library libcudnn.so.7\n",
      "2022-09-08 09:52:32.715879: I tensorflow/stream_executor/cuda/cuda_gpu_executor.cc:941] successful NUMA node read from SysFS had negative value (-1), but there must be at least one NUMA node, so returning NUMA node zero\n",
      "2022-09-08 09:52:32.716115: I tensorflow/stream_executor/cuda/cuda_gpu_executor.cc:941] successful NUMA node read from SysFS had negative value (-1), but there must be at least one NUMA node, so returning NUMA node zero\n",
      "2022-09-08 09:52:32.716314: I tensorflow/core/common_runtime/gpu/gpu_device.cc:1862] Adding visible gpu devices: 0\n",
      "2022-09-08 09:52:32.716555: I tensorflow/stream_executor/platform/default/dso_loader.cc:49] Successfully opened dynamic library libcudart.so.10.1\n",
      "2022-09-08 09:52:33.118956: I tensorflow/core/common_runtime/gpu/gpu_device.cc:1261] Device interconnect StreamExecutor with strength 1 edge matrix:\n",
      "2022-09-08 09:52:33.118976: I tensorflow/core/common_runtime/gpu/gpu_device.cc:1267]      0 \n",
      "2022-09-08 09:52:33.118980: I tensorflow/core/common_runtime/gpu/gpu_device.cc:1280] 0:   N \n",
      "2022-09-08 09:52:33.119342: I tensorflow/stream_executor/cuda/cuda_gpu_executor.cc:941] successful NUMA node read from SysFS had negative value (-1), but there must be at least one NUMA node, so returning NUMA node zero\n",
      "2022-09-08 09:52:33.119628: I tensorflow/stream_executor/cuda/cuda_gpu_executor.cc:941] successful NUMA node read from SysFS had negative value (-1), but there must be at least one NUMA node, so returning NUMA node zero\n",
      "2022-09-08 09:52:33.119865: I tensorflow/stream_executor/cuda/cuda_gpu_executor.cc:941] successful NUMA node read from SysFS had negative value (-1), but there must be at least one NUMA node, so returning NUMA node zero\n",
      "2022-09-08 09:52:33.120080: I tensorflow/core/common_runtime/gpu/gpu_device.cc:1406] Created TensorFlow device (/job:localhost/replica:0/task:0/device:GPU:0 with 4096 MB memory) -> physical GPU (device: 0, name: NVIDIA GeForce RTX 2080 SUPER, pci bus id: 0000:01:00.0, compute capability: 7.5)\n",
      "2022-09-08 09:52:33.120428: I tensorflow/compiler/jit/xla_gpu_device.cc:99] Not creating XLA devices, tf_xla_enable_xla_devices not set\n"
     ]
    }
   ],
   "source": [
    "classifier_path = \"Models/classifier\"\n",
    "classifier = load_model(classifier_path)"
   ]
  },
  {
   "cell_type": "markdown",
   "id": "6dd73d59",
   "metadata": {},
   "source": [
    "#### Compute monitoring labels"
   ]
  },
  {
   "cell_type": "code",
   "execution_count": 5,
   "id": "99645410",
   "metadata": {},
   "outputs": [
    {
     "name": "stderr",
     "output_type": "stream",
     "text": [
      "2022-09-08 09:52:33.549507: I tensorflow/compiler/mlir/mlir_graph_optimization_pass.cc:116] None of the MLIR optimization passes are enabled (registered 2)\n",
      "2022-09-08 09:52:33.573552: I tensorflow/core/platform/profile_utils/cpu_utils.cc:112] CPU Frequency: 3699850000 Hz\n",
      "2022-09-08 09:52:33.638434: I tensorflow/stream_executor/platform/default/dso_loader.cc:49] Successfully opened dynamic library libcublas.so.10\n",
      "2022-09-08 09:52:33.765811: I tensorflow/stream_executor/platform/default/dso_loader.cc:49] Successfully opened dynamic library libcudnn.so.7\n"
     ]
    }
   ],
   "source": [
    "predictions_test = np.argmax(Softmax()(classifier.predict(X_test)).numpy(), axis=1)\n",
    "labels_test_oms = (predictions_test==y_test[:,0]).astype(np.int8)\n",
    "\n",
    "predictions_testBright = np.argmax(Softmax()(classifier.predict(X_test_bright)).numpy(), axis=1)\n",
    "labels_testBright_oms = (predictions_testBright==y_test_bright[:,0]).astype(np.int8)\n",
    "\n",
    "labels_test_oms = np.where(labels_test_oms==0, 1, 0)\n",
    "labels_testBright_oms = np.where(labels_testBright_oms==0, 1, 0)\n",
    "\n",
    "labels_oms = np.r_[labels_test_oms, labels_testBright_oms]  # Evaluation 1\n",
    "labels_ood = np.array([0] * X_test.shape[0] + [1] * X_test.shape[0])  # Evaluation 2"
   ]
  },
  {
   "cell_type": "markdown",
   "id": "a4950a5a",
   "metadata": {},
   "source": [
    "#### Fit One Clas Classifiers"
   ]
  },
  {
   "cell_type": "code",
   "execution_count": 6,
   "id": "ea4effad",
   "metadata": {},
   "outputs": [
    {
     "name": "stderr",
     "output_type": "stream",
     "text": [
      "100%|██████████████████████████████████████████████████████████████████████████████████████████████████████████████████████████████████████████████████████████████████████████████████████████| 10/10 [00:31<00:00,  3.19s/it]\n"
     ]
    }
   ],
   "source": [
    "eval_predictions = np.r_[predictions_test, predictions_testBright]\n",
    "eval_classes = np.r_[y_test, y_test_bright][:, 0]\n",
    "train_classes = y_train[:, 0]\n",
    "\n",
    "occ_ae = []\n",
    "\n",
    "for i in tqdm(range(10)):\n",
    "    occ_ae.append(IsolationForest(contamination=0.3, bootstrap=True).fit(X_train_ae[train_classes == i]))\n",
    "\n",
    "predict_ae = np.copy(eval_predictions)\n",
    "for i in range(10):\n",
    "    predict_ae[eval_predictions == i] = occ_ae[i].predict(X_eval_ae[eval_predictions == i])\n",
    "predict_ae = np.where(predict_ae==-1, 1, 0)"
   ]
  },
  {
   "cell_type": "code",
   "execution_count": 7,
   "id": "b4ade8e0",
   "metadata": {},
   "outputs": [
    {
     "name": "stderr",
     "output_type": "stream",
     "text": [
      "100%|██████████████████████████████████████████████████████████████████████████████████████████████████████████████████████████████████████████████████████████████████████████████████████████| 10/10 [00:31<00:00,  3.18s/it]\n"
     ]
    }
   ],
   "source": [
    "occ_cl = []\n",
    "\n",
    "for i in tqdm(range(10)):\n",
    "    occ_cl.append(IsolationForest(contamination=0.3, bootstrap=True).fit(X_train_cl[train_classes == i]))\n",
    "    \n",
    "predict_cl = np.copy(eval_predictions)\n",
    "for i in range(10):\n",
    "    predict_cl[eval_predictions == i] = occ_cl[i].predict(X_eval_cl[eval_predictions == i])\n",
    "predict_cl = np.where(predict_cl==-1, 1, 0)"
   ]
  },
  {
   "cell_type": "markdown",
   "id": "3c135fe9",
   "metadata": {},
   "source": [
    "#### Compute metrics"
   ]
  },
  {
   "cell_type": "code",
   "execution_count": 8,
   "id": "1b382a72",
   "metadata": {},
   "outputs": [
    {
     "name": "stdout",
     "output_type": "stream",
     "text": [
      "Evaluation 1: Detect Model Errors\n",
      "Auto-encoder features\n",
      "\n",
      "SG:  0.07165\n",
      "RH:  0.14095\n",
      "AC:  0.21995\n"
     ]
    }
   ],
   "source": [
    "print(\"Evaluation 1: Detect Model Errors\")\n",
    "print(\"Auto-encoder features\\n\")\n",
    "\n",
    "labels = labels_oms\n",
    "preds = predict_ae\n",
    "\n",
    "true_monitor_detection = 0\n",
    "monitor_miss = 0\n",
    "false_monitor_detection = 0\n",
    "total = 0\n",
    "for i, l in enumerate(labels):\n",
    "    total += 1\n",
    "    if l == 1:\n",
    "        if preds[i] == 1:\n",
    "            true_monitor_detection += 1\n",
    "        else:\n",
    "            monitor_miss += 1\n",
    "    if l == 0 and preds[i] == 1:\n",
    "        false_monitor_detection += 1\n",
    "\n",
    "print(\"SG: \", true_monitor_detection / total)\n",
    "print(\"RH: \", monitor_miss / total)\n",
    "print(\"AC: \", false_monitor_detection / total)"
   ]
  },
  {
   "cell_type": "code",
   "execution_count": 9,
   "id": "5d826bbb",
   "metadata": {},
   "outputs": [
    {
     "name": "stdout",
     "output_type": "stream",
     "text": [
      "Evaluation 2: Detect Runtime Threats\n",
      "Auto-encoder features\n",
      "\n",
      "SG:  0.14695\n",
      "RH:  0.35305\n",
      "AC:  0.14465\n"
     ]
    }
   ],
   "source": [
    "print(\"Evaluation 2: Detect Runtime Threats\")\n",
    "print(\"Auto-encoder features\\n\")\n",
    "\n",
    "labels = labels_ood\n",
    "preds = predict_ae\n",
    "\n",
    "true_monitor_detection = 0\n",
    "monitor_miss = 0\n",
    "false_monitor_detection = 0\n",
    "total = 0\n",
    "for i, l in enumerate(labels):\n",
    "    total += 1\n",
    "    if l == 1:\n",
    "        if preds[i] == 1:\n",
    "            true_monitor_detection += 1\n",
    "        else:\n",
    "            monitor_miss += 1\n",
    "    if l == 0 and preds[i] == 1:\n",
    "        false_monitor_detection += 1\n",
    "\n",
    "print(\"SG: \", true_monitor_detection / total)\n",
    "print(\"RH: \", monitor_miss / total)\n",
    "print(\"AC: \", false_monitor_detection / total)"
   ]
  },
  {
   "cell_type": "code",
   "execution_count": 10,
   "id": "2feb779c",
   "metadata": {},
   "outputs": [
    {
     "name": "stdout",
     "output_type": "stream",
     "text": [
      "Evaluation 1: Detect Model Errors\n",
      "Classifier features\n",
      "\n",
      "SG:  0.07445\n",
      "RH:  0.13815\n",
      "AC:  0.217\n"
     ]
    }
   ],
   "source": [
    "print(\"Evaluation 1: Detect Model Errors\")\n",
    "print(\"Classifier features\\n\")\n",
    "\n",
    "labels = labels_oms\n",
    "preds = predict_cl\n",
    "\n",
    "true_monitor_detection = 0\n",
    "monitor_miss = 0\n",
    "false_monitor_detection = 0\n",
    "total = 0\n",
    "for i, l in enumerate(labels):\n",
    "    total += 1\n",
    "    if l == 1:\n",
    "        if preds[i] == 1:\n",
    "            true_monitor_detection += 1\n",
    "        else:\n",
    "            monitor_miss += 1\n",
    "    if l == 0 and preds[i] == 1:\n",
    "        false_monitor_detection += 1\n",
    "\n",
    "print(\"SG: \", true_monitor_detection / total)\n",
    "print(\"RH: \", monitor_miss / total)\n",
    "print(\"AC: \", false_monitor_detection / total)"
   ]
  },
  {
   "cell_type": "code",
   "execution_count": 11,
   "id": "0312e881",
   "metadata": {},
   "outputs": [
    {
     "name": "stdout",
     "output_type": "stream",
     "text": [
      "Evaluation 2: Detect Runtime Threats\n",
      "Classifier features\n",
      "\n",
      "SG:  0.14555\n",
      "RH:  0.35445\n",
      "AC:  0.1459\n"
     ]
    }
   ],
   "source": [
    "print(\"Evaluation 2: Detect Runtime Threats\")\n",
    "print(\"Classifier features\\n\")\n",
    "\n",
    "labels = labels_ood\n",
    "preds = predict_cl\n",
    "\n",
    "true_monitor_detection = 0\n",
    "monitor_miss = 0\n",
    "false_monitor_detection = 0\n",
    "total = 0\n",
    "for i, l in enumerate(labels):\n",
    "    total += 1\n",
    "    if l == 1:\n",
    "        if preds[i] == 1:\n",
    "            true_monitor_detection += 1\n",
    "        else:\n",
    "            monitor_miss += 1\n",
    "    if l == 0 and preds[i] == 1:\n",
    "        false_monitor_detection += 1\n",
    "\n",
    "print(\"SG: \", true_monitor_detection / total)\n",
    "print(\"RH: \", monitor_miss / total)\n",
    "print(\"AC: \", false_monitor_detection / total)"
   ]
  },
  {
   "cell_type": "code",
   "execution_count": null,
   "id": "e23ed2b0",
   "metadata": {},
   "outputs": [],
   "source": []
  },
  {
   "cell_type": "code",
   "execution_count": null,
   "id": "d4441be4",
   "metadata": {},
   "outputs": [],
   "source": []
  }
 ],
 "metadata": {
  "kernelspec": {
   "display_name": "Python 3 (ipykernel)",
   "language": "python",
   "name": "python3"
  },
  "language_info": {
   "codemirror_mode": {
    "name": "ipython",
    "version": 3
   },
   "file_extension": ".py",
   "mimetype": "text/x-python",
   "name": "python",
   "nbconvert_exporter": "python",
   "pygments_lexer": "ipython3",
   "version": "3.9.7"
  }
 },
 "nbformat": 4,
 "nbformat_minor": 5
}
